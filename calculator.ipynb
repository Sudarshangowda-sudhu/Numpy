{
 "cells": [
  {
   "cell_type": "markdown",
   "id": "8adedfca-b7a4-429c-b7c0-51a331e8161f",
   "metadata": {},
   "source": [
    "# 🧮 **NumPy Mathematical Calculator**\r\n",
    "\r\n",
    "## 📘 **Objective**\r\n",
    "\r\n",
    "The **NumPy Mathematical Calculator** is a Python-based calculator built using the **NumPy** library.  \r\n",
    "It performs:\r\n",
    "\r\n",
    "- ✅ **Basic arithmetic operations**\r\n",
    "- 📊 **Statistical analysis**\r\n",
    "- 🧩 **Array manipulation**\r\n",
    "\r\n",
    "This project helps learners understand how NumPy can be used for **real-world numerical computing tasks**.\r\n",
    "\r\n",
    "---\r\n",
    "\r\n",
    "## 🚀 **Key Features**\r\n",
    "\r\n",
    "### 🔹 **1. Basic Arithmetic Operations**\r\n",
    "- Addition  \r\n",
    "- Subtraction  \r\n",
    "- Multiplication  \r\n",
    "- Division *(handles divide-by-zero)*  \r\n",
    "- Power operations between two arrays  \r\n",
    "\r\n",
    "---\r\n",
    "\r\n",
    "### 🔹 **2. Statistical Operations**\r\n",
    "- Mean, Median, Standard Deviation, Variance  \r\n",
    "- Minimum, Maximum, Sum, Product  \r\n",
    "- Shape, Size, and Data Type  \r\n",
    "\r\n",
    "---\r\n",
    "\r\n",
    "### 🔹 **3. Array Manipulation**\r\n",
    "- Reshaping arrays *(with size validation)*  \r\n",
    "- Sorting and Reverse Sorting  \r\n",
    "- Unique value extraction  \r\n",
    "- Accessing first and last elements  \r\n",
    "- Filtering values greater than the mean  \r\n"
   ]
  },
  {
   "cell_type": "code",
   "execution_count": 1,
   "id": "90bffbe2-78fd-4a63-80cf-02fdc5aea950",
   "metadata": {},
   "outputs": [],
   "source": [
    "import numpy as np"
   ]
  },
  {
   "cell_type": "code",
   "execution_count": 3,
   "id": "452cedc2-c170-4a67-bc86-a9613a4d3ac1",
   "metadata": {},
   "outputs": [
    {
     "name": "stdout",
     "output_type": "stream",
     "text": [
      "Type 1. for Basic Arithmetic Operations\n",
      "Type 2. for Statistical Operations\n",
      "Type 3. for Array Manipulation\n"
     ]
    },
    {
     "name": "stdin",
     "output_type": "stream",
     "text": [
      "Enter your choice:  1\n",
      "Enter 1st array elements:  1 2 3 4\n",
      "Enter 2nd array elements:  1 2 3\n"
     ]
    },
    {
     "name": "stdout",
     "output_type": "stream",
     "text": [
      "\n",
      "1. Basic Arithmetic Operations\n",
      "------------------------------\n",
      "Array1: [1, 2, 3, 4]\n",
      "Array2: [1, 2, 3]\n",
      "\n",
      "Addition: [2, 4, 6]\n",
      "Subtraction: [0, 0, 0]\n",
      "Multiplication: [1, 4, 9]\n",
      "Division: [1, 1, 1]\n",
      "Power: [1, 4, 27]\n"
     ]
    }
   ],
   "source": [
    "print(\"Type 1. for Basic Arithmetic Operations\")\n",
    "print(\"Type 2. for Statistical Operations\")\n",
    "print(\"Type 3. for Array Manipulation\")\n",
    "a = int(input(\"Enter your choice: \"))\n",
    "if a == 1:\n",
    "    arr1 = list(map(int, input(\"Enter 1st array elements: \").split()))\n",
    "    arr2 = list(map(int, input(\"Enter 2nd array elements: \").split()))\n",
    "    sumi, sub, mul, div, power = [], [], [], [], []\n",
    "    print(\"\\n1. Basic Arithmetic Operations\")\n",
    "    print('------------------------------')\n",
    "    print(f'Array1: {arr1}')\n",
    "    print(f'Array2: {arr2}')\n",
    "    for i, j in zip(arr1, arr2):\n",
    "        sumi.append(i + j)\n",
    "        sub.append(i - j)\n",
    "        mul.append(i * j)\n",
    "        div.append(i // j if j != 0 else '∞')  \n",
    "        power.append(i ** j)\n",
    "\n",
    "    print(f\"\\nAddition: {sumi}\")\n",
    "    print(f\"Subtraction: {sub}\")\n",
    "    print(f\"Multiplication: {mul}\")\n",
    "    print(f\"Division: {div}\")\n",
    "    print(f\"Power: {power}\")\n",
    "elif a == 2:\n",
    "    arr3 = np.array(list(map(int, input(\"Enter array elements: \").split())))\n",
    "\n",
    "    print(\"\\n2. Statistical Operations\")\n",
    "    print('--------------------------')\n",
    "    print(f\"Array: {arr3}\")\n",
    "    print(f\"Mean: {np.mean(arr3)}\")\n",
    "    print(f\"Median: {np.median(arr3)}\")\n",
    "    print(f\"Standard Deviation: {np.std(arr3)}\")\n",
    "    print(f\"Variance: {np.var(arr3)}\")\n",
    "    print(f\"Minimum: {np.min(arr3)}\")\n",
    "    print(f\"Maximum: {np.max(arr3)}\")\n",
    "    print(f\"Sum: {np.sum(arr3)}\")\n",
    "    print(f\"Product: {np.prod(arr3)}\")\n",
    "    print(f\"Shape: {arr3.shape}\")\n",
    "    print(f\"Size: {arr3.size}\")\n",
    "    print(f\"Data Type: {arr3.dtype}\")\n",
    "\n",
    "elif a == 3:\n",
    "    arr4 = np.array(list(map(int, input(\"Enter array elements: \").split())))\n",
    "    row = int(input(\"Enter number of rows: \"))\n",
    "    col = int(input(\"Enter number of columns: \"))\n",
    "    print(\"\\n3. Array Manipulation\")\n",
    "    print('----------------------')\n",
    "    if arr4.size == row * col:\n",
    "        print(f\"Reshape:\\n{arr4.reshape(row, col)}\")\n",
    "    else:\n",
    "        print(\" Reshape not possible: size mismatch!\")\n",
    "    print(f\"Sorting: {np.sort(arr4)}\")\n",
    "    print(f\"Reverse: {np.flip(arr4)}\")\n",
    "    print(f\"Unique Values: {np.unique(arr4)}\")\n",
    "    print(f\"First Element: {arr4[0]}\")\n",
    "    print(f\"Last Element: {arr4[-1]}\")\n",
    "    mean_val = np.mean(arr4)\n",
    "    print(f\"Elements greater than mean ({mean_val}): {arr4[arr4 > mean_val]}\")\n",
    "else:\n",
    "    print(\" Invalid choice. Please select 1, 2, or 3.\")\n"
   ]
  },
  {
   "cell_type": "code",
   "execution_count": null,
   "id": "4ea1bb9c-140c-4062-9c3c-2879345ae533",
   "metadata": {},
   "outputs": [],
   "source": []
  }
 ],
 "metadata": {
  "kernelspec": {
   "display_name": "Python 3 (ipykernel)",
   "language": "python",
   "name": "python3"
  },
  "language_info": {
   "codemirror_mode": {
    "name": "ipython",
    "version": 3
   },
   "file_extension": ".py",
   "mimetype": "text/x-python",
   "name": "python",
   "nbconvert_exporter": "python",
   "pygments_lexer": "ipython3",
   "version": "3.12.4"
  }
 },
 "nbformat": 4,
 "nbformat_minor": 5
}
