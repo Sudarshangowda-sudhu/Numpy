{
 "cells": [
  {
   "cell_type": "code",
   "execution_count": 32,
   "id": "e6dc6776-f1db-4dd5-b901-2436ecb21647",
   "metadata": {},
   "outputs": [],
   "source": [
    "import  numpy as np"
   ]
  },
  {
   "cell_type": "code",
   "execution_count": 33,
   "id": "046edbbe-f955-4789-bf54-b3cb264dd5bb",
   "metadata": {},
   "outputs": [
    {
     "name": "stdout",
     "output_type": "stream",
     "text": [
      "Marks Array:\n",
      " [[85 78 92 74 88]\n",
      " [79 82 84 80 76]\n",
      " [91 89 95 90 92]\n",
      " [72 75 70 68 74]\n",
      " [88 90 85 86 87]]\n"
     ]
    }
   ],
   "source": [
    "import numpy as np\n",
    "\n",
    "# Create arrays for students and subjects\n",
    "students = np.array([\"Alice\", \"Bob\", \"Charlie\", \"David\", \"Eva\"])\n",
    "subjects = np.array([\"Math\", \"Science\", \"English\", \"History\", \"Computer\"])\n",
    "\n",
    "marks = np.array([\n",
    "    [85, 78, 92, 74, 88],\n",
    "    [79, 82, 84, 80, 76],\n",
    "    [91, 89, 95, 90, 92],\n",
    "    [72, 75, 70, 68, 74],\n",
    "    [88, 90, 85, 86, 87]\n",
    "])\n",
    "\n",
    "print(\"Marks Array:\\n\", marks)\n"
   ]
  },
  {
   "cell_type": "code",
   "execution_count": 34,
   "id": "0d620823-ae41-4c8b-acd2-18ce4236c45d",
   "metadata": {},
   "outputs": [
    {
     "name": "stdout",
     "output_type": "stream",
     "text": [
      "Array Properties:\n",
      "Shape: (5, 5)\n",
      "Dimensions: 2\n",
      "Size: 25\n",
      "Data Type: int32\n",
      "Number of Students: 5\n",
      "Number of Subjects: 5\n"
     ]
    }
   ],
   "source": [
    "print(\"Array Properties:\")\n",
    "print(\"Shape:\", marks.shape)\n",
    "print(\"Dimensions:\", marks.ndim)\n",
    "print(\"Size:\", marks.size)\n",
    "print(\"Data Type:\", marks.dtype)\n",
    "print(\"Number of Students:\", len(students))\n",
    "print(\"Number of Subjects:\", len(subjects))\n"
   ]
  },
  {
   "cell_type": "code",
   "execution_count": 35,
   "id": "b7a27238-fc67-4614-b607-5fb4aa562093",
   "metadata": {},
   "outputs": [
    {
     "name": "stdout",
     "output_type": "stream",
     "text": [
      "Flattened Marks: [85 78 92 74 88 79 82 84 80 76 91 89 95 90 92 72 75 70 68 74 88 90 85 86\n",
      " 87]\n",
      "\n",
      "Reshaped Marks (Subjects × Students):\n",
      " [[85 79 91 72 88]\n",
      " [78 82 89 75 90]\n",
      " [92 84 95 70 85]\n",
      " [74 80 90 68 86]\n",
      " [88 76 92 74 87]]\n"
     ]
    }
   ],
   "source": [
    "\n",
    "flat_marks = marks.flatten()\n",
    "print(\"Flattened Marks:\", flat_marks)\n",
    "\n",
    "\n",
    "reshaped_marks = marks.T\n",
    "print(\"\\nReshaped Marks (Subjects × Students):\\n\", reshaped_marks)\n"
   ]
  },
  {
   "cell_type": "code",
   "execution_count": 24,
   "id": "e52c9dda-bd15-4857-b303-ee6b38c3ff9a",
   "metadata": {},
   "outputs": [
    {
     "name": "stdout",
     "output_type": "stream",
     "text": [
      "After adding new student:\n",
      " [[85 78 92 74 88]\n",
      " [79 82 84 80 76]\n",
      " [91 89 95 90 92]\n",
      " [72 75 70 68 74]\n",
      " [88 90 85 86 87]\n",
      " [80 85 78 82 88]]\n",
      "Updated Students: ['Alice' 'Bob' 'Charlie' 'David' 'Eva' 'Frank']\n"
     ]
    }
   ],
   "source": [
    "new_student = np.array([[80, 85, 78, 82, 88]])  # 5 marks\n",
    "marks = np.vstack([marks, new_student])\n",
    "students = np.append(students, \"Frank\")\n",
    "\n",
    "print(\"After adding new student:\\n\", marks)\n",
    "print(\"Updated Students:\", students)\n"
   ]
  },
  {
   "cell_type": "code",
   "execution_count": null,
   "id": "ab9e2b04-c501-456e-aac0-ca76c2f145c1",
   "metadata": {},
   "outputs": [],
   "source": [
    "new_subject_marks = np.array([[89], [75], [94], [70], [90], [88]])  \n",
    "marks = np.hstack([marks, new_subject_marks])\n",
    "subjects = np.append(subjects, \"Art\")\n",
    "\n",
    "print(\"\\n Subject added successfully!\")\n",
    "print(\"New Marks Shape:\", marks.shape)\n",
    "print(\"Subjects:\", subjects)"
   ]
  },
  {
   "cell_type": "code",
   "execution_count": 37,
   "id": "dce1dd3d-ab8f-4ec3-a67e-57729c5b64cb",
   "metadata": {},
   "outputs": [
    {
     "name": "stdout",
     "output_type": "stream",
     "text": [
      "After Modification:\n",
      " [[85 78 92 74 93]\n",
      " [91 89 95 90 97]\n",
      " [72 75 70 68 79]\n",
      " [88 90 85 86 92]]\n",
      "Updated Students: ['Alice' 'Charlie' 'David' 'Eva']\n",
      "Unique Marks: [68 70 72 74 75 78 79 85 86 88 89 90 91 92 93 95 97]\n"
     ]
    }
   ],
   "source": [
    "\n",
    "marks[:, subjects == \"Computer\"] += 5\n",
    "\n",
    "remove_index = np.where(students == \"Bob\")[0][0]\n",
    "marks = np.delete(marks, remove_index, axis=0)\n",
    "students = np.delete(students, remove_index)\n",
    "\n",
    "\n",
    "unique_marks = np.unique(marks)\n",
    "\n",
    "print(\"After Modification:\\n\", marks)\n",
    "print(\"Updated Students:\", students)\n",
    "print(\"Unique Marks:\", unique_marks)\n"
   ]
  },
  {
   "cell_type": "code",
   "execution_count": 27,
   "id": "2b127139-d2c9-4246-a72b-361dd71e0a52",
   "metadata": {},
   "outputs": [
    {
     "name": "stdout",
     "output_type": "stream",
     "text": [
      "Original Data Type: int32\n",
      "Converted Data Type: float64\n"
     ]
    }
   ],
   "source": [
    "print(\"Original Data Type:\", marks.dtype)\n",
    "\n",
    "\n",
    "marks_float = marks.astype(float)\n",
    "print(\"Converted Data Type:\", marks_float.dtype)\n"
   ]
  },
  {
   "cell_type": "code",
   "execution_count": 38,
   "id": "923b2bf6-6075-453f-a674-637645391f5a",
   "metadata": {},
   "outputs": [
    {
     "name": "stdout",
     "output_type": "stream",
     "text": [
      "Copy Example:\n",
      "Original Marks[0,0]: 85\n",
      "Copied Marks[0,0]: 100\n",
      "\n",
      "View Example:\n",
      "Original Marks[0,1]: 99\n",
      "Viewed Marks[0,1]: 99\n"
     ]
    }
   ],
   "source": [
    "\n",
    "marks_copy = marks.copy()\n",
    "marks_copy[0, 0] = 100\n",
    "print(\"Copy Example:\")\n",
    "print(\"Original Marks[0,0]:\", marks[0, 0])  \n",
    "print(\"Copied Marks[0,0]:\", marks_copy[0, 0])  \n",
    "\n",
    "\n",
    "marks_view = marks.view()\n",
    "marks_view[0, 1] = 99\n",
    "print(\"\\nView Example:\")\n",
    "print(\"Original Marks[0,1]:\", marks[0, 1])  \n",
    "print(\"Viewed Marks[0,1]:\", marks_view[0, 1])\n"
   ]
  },
  {
   "cell_type": "code",
   "execution_count": 39,
   "id": "5fbddf69-2b95-4c66-af3d-71c42854ffc9",
   "metadata": {},
   "outputs": [
    {
     "name": "stdout",
     "output_type": "stream",
     "text": [
      "Final Marks Table:\n",
      " [[85 99 92 74 93]\n",
      " [91 89 95 90 97]\n",
      " [72 75 70 68 79]\n",
      " [88 90 85 86 92]]\n",
      "\n",
      "Students: ['Alice' 'Charlie' 'David' 'Eva']\n",
      "Subjects: ['Math' 'Science' 'English' 'History' 'Computer']\n",
      "Final Shape: (4, 5)\n"
     ]
    }
   ],
   "source": [
    "print(\"Final Marks Table:\\n\", marks)\n",
    "print(\"\\nStudents:\", students)\n",
    "print(\"Subjects:\", subjects)\n",
    "print(\"Final Shape:\", marks.shape)\n"
   ]
  },
  {
   "cell_type": "code",
   "execution_count": null,
   "id": "beef0c6d-dd55-4430-bc5b-2dac5aa613d9",
   "metadata": {},
   "outputs": [],
   "source": []
  }
 ],
 "metadata": {
  "kernelspec": {
   "display_name": "Python 3 (ipykernel)",
   "language": "python",
   "name": "python3"
  },
  "language_info": {
   "codemirror_mode": {
    "name": "ipython",
    "version": 3
   },
   "file_extension": ".py",
   "mimetype": "text/x-python",
   "name": "python",
   "nbconvert_exporter": "python",
   "pygments_lexer": "ipython3",
   "version": "3.12.7"
  }
 },
 "nbformat": 4,
 "nbformat_minor": 5
}
