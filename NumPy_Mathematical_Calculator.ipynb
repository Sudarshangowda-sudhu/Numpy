{
  "nbformat": 4,
  "nbformat_minor": 0,
  "metadata": {
    "colab": {
      "provenance": []
    },
    "kernelspec": {
      "name": "python3",
      "display_name": "Python 3"
    },
    "language_info": {
      "name": "python"
    }
  },
  "cells": [
    {
      "cell_type": "markdown",
      "source": [
        "# Numpy Mathematical Calculator\n",
        "\n",
        "## Objective:\n",
        "\n",
        "To build a Python-based calculator using the **NumPy** library that performs:\n",
        "\n",
        "- Basic arithmetic operations\n",
        "- Statistical analysis\n",
        "- Array manipulation\n",
        "\n",
        "This project helps students understand how NumPy is used in real-world numerical computing tasks.\n",
        "\n",
        "---\n",
        "\n",
        "## Key Features:\n",
        "\n",
        "### 1. Basic Arithmetic Operations\n",
        "\n",
        "- Addition, Subtraction, Multiplication, Division\n",
        "- Power operations between two arrays\n",
        "\n",
        "### 2. Statistical Operations\n",
        "\n",
        "- Mean, Median, Standard Deviation, Variance\n",
        "- Minimum, Maximum, Sum, Product\n",
        "- Shape, Size, and Data Type\n",
        "\n",
        "### 3. Array Manipulation\n",
        "\n",
        "- Reshaping arrays (when possible)\n",
        "- Sorting and Reverse Sorting\n",
        "- Unique value extraction\n",
        "- Accessing first and last elements\n",
        "- Filtering values greater than the mean"
      ],
      "metadata": {
        "id": "-q5sipJv5pX5"
      }
    },
    {
      "cell_type": "code",
      "source": [
        "import numpy as np"
      ],
      "metadata": {
        "id": "iHP_sXRQ60Es"
      },
      "execution_count": 2,
      "outputs": []
    },
    {
      "cell_type": "code",
      "source": [
        "print(\"Basic Arithmetic Operation\")\n",
        "print(\"-------------------------------\")\n",
        "a=input(\"enter the ele with space\")\n",
        "arr1=np.array([int(i) for i in a.split()])\n",
        "b=input(\"enter the ele with space\")\n",
        "arr2=np.array([int(i) for i in b.split()])\n",
        "print(arr1)\n",
        "print(arr2)\n",
        "print(f\"addition       :{arr1+arr2}\")\n",
        "print(f\"subtraction    :{arr1-arr2}\")\n",
        "print(f\"multiplication : {arr1*arr2}\")\n",
        "print(f\"division       : {arr1/arr2}\")\n",
        "print(f\"floor division :{arr1//arr2}\")\n",
        "print(f\"modulus division:{arr1%arr2}\")\n",
        "print(f\"exponensial     :{arr1**arr2}\")"
      ],
      "metadata": {
        "colab": {
          "base_uri": "https://localhost:8080/"
        },
        "id": "F5MWdt-h-qjv",
        "outputId": "47aa1eee-8fb3-4dc6-e7f9-cd298778a291"
      },
      "execution_count": 19,
      "outputs": [
        {
          "output_type": "stream",
          "name": "stdout",
          "text": [
            "Basic Arithmetic Operation\n",
            "-------------------------------\n",
            "enter the ele with space2 3 4 5\n",
            "enter the ele with space6 7 8 9\n",
            "[2 3 4 5]\n",
            "[6 7 8 9]\n",
            "addition       :[ 8 10 12 14]\n",
            "subtraction    :[-4 -4 -4 -4]\n",
            "multiplication : [12 21 32 45]\n",
            "division       : [0.33333333 0.42857143 0.5        0.55555556]\n",
            "floor division :[0 0 0 0]\n",
            "modulus division:[2 3 4 5]\n",
            "exponensial     :[     64    2187   65536 1953125]\n"
          ]
        }
      ]
    },
    {
      "cell_type": "code",
      "source": [
        "print(\"Statistical Operations\")\n",
        "print(\"---------------------------\")\n",
        "n=input(\"enter the elements with space\")\n",
        "s=np.array([int(i) for i in n.split()])\n",
        "print(s)\n",
        "print(f\" mean             :{np.mean(s)}\")\n",
        "print(f\"median            :{np.median(s)}\")\n",
        "print(f\"standard devation : {np.std(s)}\")\n",
        "print(f\"variance          :{np.var(s)}\")\n",
        "print(f\"minimum value     :{np.min(s)}\")\n",
        "print(f\"maximum value     :{np.max(s)}\")\n",
        "print(f\"sum               :{np.sum(s)}\")\n",
        "print(f\"product           :{np.prod(s)}\")\n",
        "print(f\"shape    : {s.shape}\")\n",
        "print(f\"size     : {s.size}\")\n",
        "print(f\"data type: {s.dtype}\")"
      ],
      "metadata": {
        "colab": {
          "base_uri": "https://localhost:8080/"
        },
        "id": "iqkuH1NCBNIE",
        "outputId": "bfb1fa7f-b21a-456e-9fcc-504db8e4e821"
      },
      "execution_count": 22,
      "outputs": [
        {
          "output_type": "stream",
          "name": "stdout",
          "text": [
            "Statistical Operations\n",
            "---------------------------\n",
            "enter the elements with space7 65 34 42 8\n",
            "[ 7 65 34 42  8]\n",
            " mean             :31.2\n",
            "median            :34.0\n",
            "standard devation : 21.866869917754578\n",
            "variance          :478.16\n",
            "minimum value     :7\n",
            "maximum value     :65\n",
            "sum               :156\n",
            "product           :5197920\n",
            "shape    : (5,)\n",
            "size     : 5\n",
            "data type: int64\n"
          ]
        }
      ]
    },
    {
      "cell_type": "code",
      "source": [
        "print(\"Array Manipulation\")\n",
        "print(\"-----------------------\")\n",
        "\n",
        "n=input(\"enter the ele with space\")\n",
        "arr=np.array([int(i) for i in  n.split()])\n",
        "print(arr)\n",
        "resh=int(input(\"enter the reshaping array 1 2 or 3\"))\n",
        "if resh==2 or 1:\n",
        "  row=int(input(\"enter rowsize\"))\n",
        "  col=int(input(\"enter colsize\"))\n",
        "  print(f\"reshaping : {arr.reshape(row,col)}\")\n",
        "else:\n",
        "  row=int(input(\"enter rowsize\"))\n",
        "  col=int(input(\"enter colsize\"))\n",
        "  ele=int(input(\"enter elesize\"))\n",
        "  print(f\"reshaping : {arr.reshape(row,col,ele)}\")\n",
        "st=np.sort(arr)\n",
        "print(f\"sorting {st}\")\n",
        "f=np.flip(st)\n",
        "print(f\"reverse sorting {f}\")\n",
        "print(f\"unique {np.unique(arr)}\")\n",
        "print(f\"first {arr[0]}\")\n",
        "print(f\"last {arr[-1]}\")\n",
        "\n",
        "\n"
      ],
      "metadata": {
        "colab": {
          "base_uri": "https://localhost:8080/"
        },
        "id": "-hLjqzrxFbxh",
        "outputId": "1bfcb4d3-9e95-4344-bc61-eaaff7370159"
      },
      "execution_count": 23,
      "outputs": [
        {
          "output_type": "stream",
          "name": "stdout",
          "text": [
            "Array Manipulation\n",
            "-----------------------\n",
            "enter the ele with space23 4 56 43 17 7 8 98\n",
            "[23  4 56 43 17  7  8 98]\n",
            "enter the reshaping array 1 2 or 32\n",
            "enter rowsize4\n",
            "enter colsize2\n",
            "reshaping : [[23  4]\n",
            " [56 43]\n",
            " [17  7]\n",
            " [ 8 98]]\n",
            "sorting [ 4  7  8 17 23 43 56 98]\n",
            "reverse sorting [98 56 43 23 17  8  7  4]\n",
            "unique [ 4  7  8 17 23 43 56 98]\n",
            "first 23\n",
            "last 98\n"
          ]
        }
      ]
    }
  ]
}